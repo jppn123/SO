{
  "metadata": {
    "kernelspec": {
      "name": "python",
      "display_name": "Python (Pyodide)",
      "language": "python"
    },
    "language_info": {
      "codemirror_mode": {
        "name": "python",
        "version": 3
      },
      "file_extension": ".py",
      "mimetype": "text/x-python",
      "name": "python",
      "nbconvert_exporter": "python",
      "pygments_lexer": "ipython3",
      "version": "3.8"
    }
  },
  "nbformat_minor": 4,
  "nbformat": 4,
  "cells": [
    {
      "cell_type": "code",
      "source": "class Inode:\n\n    def __init__(self, nome, tamanho, isDir = False):\n\n        #comum entre arq e dir\n\n        self.nome = nome\n\n        self.tam = tamanho\n\n        self.isDir = isDir\n\n        self.pai = None\n\n        #somente arq\n\n        self.dados = []\n\n        #somente dir\n\n        self.filhos = {}\n\n\n\nclass arquivos:\n\n    def __init__(self):\n\n        self.root = Inode(\"/\", 0, True)\n\n        self.aux = self.root\n\n   \n\n    #mk\n\n    def criaArquivo(self, nome):\n\n        if nome in self.aux.filhos:\n\n            print(f\"arquivo com nome '{nome}' já existente no diretório atual\")\n\n            return\n\n        #arquivo q não tem extensão vira .txt\n\n        if len(nome.split(\".\")) == 1:\n\n          nome = nome + \".txt\"\n\n\n\n        arq = Inode(nome, 0)\n\n        arq.pai = self.aux\n\n        self.aux.filhos[nome] = arq\n\n   \n\n    #mkdir\n\n    def criaDiretorio(self, nome):\n\n        if nome in self.aux.filhos:\n\n            print(f\"diretório com nome '{nome}' já existente no diretório atual\")\n\n            return\n\n        dir = Inode(nome, 0, True)\n\n        dir.pai = self.aux\n\n        self.aux.filhos[nome] = dir            \n\n\n\n\n\n    #ls\n\n    def listarItensDirAtual(self):\n\n        backup = self.aux\n\n        nomeDir = []\n\n        while self.aux.pai:\n\n            nomeDir.append(self.aux.nome)\n\n            self.aux = self.aux.pai\n\n        self.aux = backup\n\n        nomeDir = \"/\"+\"/\".join(nomeDir[::-1])\n\n        print(f\"\\nDiretório {nomeDir}\\n\")\n\n        for nodeName, node in self.aux.filhos.items():\n\n            tipo = \"DIR\" if node.isDir else \"ARQ\"\n\n            print(f\"\\t{tipo}  {nodeName}\")\n\n        print()\n\n\n\n\n\n    #mv\n\n    '''\n\n    path relativo:\n\n    caso não seja especificado o pathing absoluto do arquivo,\n\n    o mesmo só poderá ser movido para o pai do diretório atual ou\n\n    para um diretório dentro do diretório atual.\n\n\n\n    path absoluto:\n\n    se for especificado, muda todo o contexto para encontrar o\n\n    diretório então volta para o ponto de origem\n\n    '''\n\n    def moverItens(self, nome, destino):\n\n        root = self.aux\n\n        if nome not in root.filhos:\n\n            print(\"item não encontrado no diretório atual\")\n\n            return\n\n       \n\n        inode = root.filhos.pop(nome)\n\n       \n\n        destinoSplit = destino.split(\"/\")\n\n        if len(destinoSplit) > 1 and destino != \"/\":\n\n            root = self.pathAbsoluto(destino)\n\n       \n\n        if destino == \"/\":\n\n            root = self.root\n\n        elif destinoSplit[-1] == \"..\":\n\n            root = root.pai\n\n        elif destinoSplit[-1] == \".\":\n\n            pass\n\n        else:\n\n            root = root.filhos[destinoSplit[-1]]\n\n           \n\n        if root:\n\n            #item já existe no diretório especificado, deseja substituir? (apagar o diretório com o mesmo nome e substituir)\n\n            if nome in root.filhos:\n\n                print(\"item já existe no diretório especificado\")\n\n                return\n\n            inode.pai = root\n\n            root.filhos[nome] = inode\n\n\n\n    #rm\n\n    def removerItens(self, nome, param = \"\"):\n\n        try:\n\n            root = self.aux\n\n            nomeArquivo = nome.split(\"/\")\n\n            if len(nomeArquivo) > 1:\n\n                self.pathAbsoluto(nome)\n\n                if root.filhos[nomeArquivo[-1]].filhos != {} and param != \"-f\":\n\n                    print(\"Não é possível apagar diretórios com itens dentro\")\n\n                    return\n\n                del root.filhos[nomeArquivo[-1]]\n\n            else:\n\n                if root.filhos[nome].filhos != {} and param != \"-f\":\n\n                    print(\"Não é possível apagar diretórios com itens dentro\")\n\n                    return\n\n                del root.filhos[nome]\n\n        except KeyError:\n\n            print(f\"arquivo '{nome}' não encontrado\")\n\n       \n\n    #retorna o diretório absoluto de destino\n\n    #TODO implementar o ../..\n\n    def pathAbsoluto(self, destino):\n\n        destinoSplit = destino.split(\"/\")\n\n        backup = self.aux\n\n        self.aux = self.root\n\n        while destinoSplit:\n\n            inode = destinoSplit.pop(0)\n\n            if inode.__contains__(\".\"):\n\n                root = self.aux.filhos[inode if inode != \"\" and len(inode.split(\".\")) > 1 else destinoSplit.pop(0)]\n\n            else:\n\n                root = self.aux.filhos[inode if inode != \"\" else destinoSplit.pop(0)]\n\n            self.aux = root\n\n        self.aux = backup\n\n        return root.pai\n\n\n\n    #cd\n\n    def moverParaDiretorio(self, nome):\n\n       \n\n        nomeArquivo = nome.split(\"/\")\n\n        if len(nomeArquivo) > 1 and nome != \"/\":\n\n            self.aux = self.pathAbsoluto(nome)\n\n            nome = nomeArquivo[-1]\n\n       \n\n        if nome == \"/\":\n\n            self.aux = self.root\n\n            return\n\n        if nome == \".\":\n\n            return\n\n        if nome == \"..\" and self.aux.pai != None:\n\n            self.aux = self.aux.pai\n\n            return\n\n        if nome not in self.aux.filhos:\n\n            print(f\"diretório {nome} não encontrado\")\n\n            return\n\n        self.aux = self.aux.filhos[nome]\n\n\n\n    #wa\n\n    def escreverNoArquivo(self, nome, dados):\n\n        if nome not in self.aux.filhos:\n\n            print(f\"arquivo '{nome}' não encontrado no diretório atual\")\n\n            return\n\n        node:Inode = self.aux.filhos[nome]\n\n        if node.isDir:\n\n            print(f\"item de nome '{nome}' é referente a um dicionário\")\n\n            return\n\n        node.dados.append(dados)\n\n        node.tam += len(dados)\n\n\n\n    #ra\n\n    def lerArquivo(self, nome):\n\n        if nome not in self.aux.filhos:\n\n            print(f\"arquivo '{nome}' não encontrado no diretório atual\")\n\n            return\n\n        print(f\"\\nLendo arquivo '{nome}'\\n\")\n\n        node:Inode = self.aux.filhos[nome]\n\n        if node.isDir:\n\n            print(f\"item de nome '{nome}' é referente a um dicionário\")\n\n            return\n\n        for dado in node.dados:\n\n            print(\"\\t\", dado)\n\n        print(f\"\\n\\ttamanho do arquivo: {node.tam}\")",
      "metadata": {
        "trusted": true
      },
      "outputs": [],
      "execution_count": 2
    },
    {
      "cell_type": "code",
      "source": "arqSys = arquivos()",
      "metadata": {
        "trusted": true
      },
      "outputs": [],
      "execution_count": 3
    },
    {
      "cell_type": "code",
      "source": "#TESTE: criando arquivos e diretórios na pasta root /\n\narqSys.criaArquivo(\"startup.log\")\n\narqSys.criaDiretorio(\"program files\")\n\narqSys.criaDiretorio(\"program files (x86)\")\n\narqSys.criaDiretorio(\"users\")\n\narqSys.listarItensDirAtual()",
      "metadata": {
        "trusted": true
      },
      "outputs": [
        {
          "name": "stdout",
          "text": "\nDiretório /\n\n\tARQ  startup.log\n\tDIR  program files\n\tDIR  program files (x86)\n\tDIR  users\n\n",
          "output_type": "stream"
        }
      ],
      "execution_count": 4
    },
    {
      "cell_type": "code",
      "source": "#TESTE: tentar criar os itens com mesmo nome dos já existentes\n\narqSys.criaArquivo(\"startup.log\")\n\narqSys.criaDiretorio(\"program files\")\n\narqSys.criaDiretorio(\"program files (x86)\")\n\narqSys.criaDiretorio(\"users\")",
      "metadata": {
        "trusted": true
      },
      "outputs": [
        {
          "name": "stdout",
          "text": "arquivo com nome 'startup.log' já existente no diretório atual\ndiretório com nome 'program files' já existente no diretório atual\ndiretório com nome 'program files (x86)' já existente no diretório atual\ndiretório com nome 'users' já existente no diretório atual\n",
          "output_type": "stream"
        }
      ],
      "execution_count": 5
    },
    {
      "cell_type": "code",
      "source": "#TESTE: acessar um diretório a partir do caminho relativo e criar umas pastas nele\n\narqSys.moverParaDiretorio(\"program files\")\n\narqSys.listarItensDirAtual()\n\n\narqSys.criaDiretorio(\"IIS\")\n\narqSys.criaDiretorio(\"Java\")\n\narqSys.criaDiretorio(\"dotnet\")\n\n\narqSys.listarItensDirAtual()",
      "metadata": {
        "trusted": true
      },
      "outputs": [
        {
          "name": "stdout",
          "text": "\nDiretório /program files\n\n\n\nDiretório /program files\n\n\tDIR  IIS\n\tDIR  Java\n\tDIR  dotnet\n\n",
          "output_type": "stream"
        }
      ],
      "execution_count": 6
    },
    {
      "cell_type": "code",
      "source": "#TESTE: voltar para o diretório root e ir para o diretório IIS e criar 2 arquivos\n\narqSys.moverParaDiretorio(\"/\")\n\narqSys.listarItensDirAtual()\n\n\narqSys.moverParaDiretorio(\"program files/IIS\")\n\narqSys.criaArquivo(\"Microsoft.Web.Deployment.dll\")\n\narqSys.criaArquivo(\"Microsoft.Web.Deployment.Tracing.dll\")\n\narqSys.listarItensDirAtual()",
      "metadata": {
        "trusted": true
      },
      "outputs": [
        {
          "name": "stdout",
          "text": "\nDiretório /\n\n\tARQ  startup.log\n\tDIR  program files\n\tDIR  program files (x86)\n\tDIR  users\n\n\nDiretório /program files/IIS\n\n\tARQ  Microsoft.Web.Deployment.dll\n\tARQ  Microsoft.Web.Deployment.Tracing.dll\n\n",
          "output_type": "stream"
        }
      ],
      "execution_count": 7
    },
    {
      "cell_type": "code",
      "source": "#TESTE: voltar para o diretório anterior e listar seus arquivos\n\narqSys.moverParaDiretorio(\"..\")\n\narqSys.listarItensDirAtual()",
      "metadata": {
        "trusted": true
      },
      "outputs": [
        {
          "name": "stdout",
          "text": "\nDiretório /program files\n\n\tDIR  IIS\n\tDIR  Java\n\tDIR  dotnet\n\n",
          "output_type": "stream"
        }
      ],
      "execution_count": 8
    },
    {
      "cell_type": "code",
      "source": "#TESTE: mover arquivos entre diretórios\n\narqSys.moverParaDiretorio(\"program files/IIS\")\n\narqSys.listarItensDirAtual()\n\narqSys.moverParaDiretorio(\".\")\n\narqSys.listarItensDirAtual()\n\n\n#arquivo sai do caminho /program files/IIS e vai para o root /\n\narqSys.moverItens(\"Microsoft.Web.Deployment.dll\", \"/\")\n\narqSys.listarItensDirAtual()\n\n\narqSys.moverParaDiretorio(\"/\")\n\narqSys.listarItensDirAtual()",
      "metadata": {
        "trusted": true
      },
      "outputs": [
        {
          "name": "stdout",
          "text": "\nDiretório /program files/IIS\n\n\tARQ  Microsoft.Web.Deployment.dll\n\tARQ  Microsoft.Web.Deployment.Tracing.dll\n\n\nDiretório /program files/IIS\n\n\tARQ  Microsoft.Web.Deployment.dll\n\tARQ  Microsoft.Web.Deployment.Tracing.dll\n\n\nDiretório /program files/IIS\n\n\tARQ  Microsoft.Web.Deployment.Tracing.dll\n\n\nDiretório /\n\n\tARQ  startup.log\n\tDIR  program files\n\tDIR  program files (x86)\n\tDIR  users\n\tARQ  Microsoft.Web.Deployment.dll\n\n",
          "output_type": "stream"
        }
      ],
      "execution_count": 9
    },
    {
      "cell_type": "code",
      "source": "#TESTE: move o arquivo para o mesmo diretório\n\narqSys.moverItens(\"Microsoft.Web.Deployment.dll\", \".\")\n\narqSys.listarItensDirAtual()\n",
      "metadata": {
        "trusted": true
      },
      "outputs": [
        {
          "name": "stdout",
          "text": "\nDiretório /\n\n\tARQ  startup.log\n\tDIR  program files\n\tDIR  program files (x86)\n\tDIR  users\n\tARQ  Microsoft.Web.Deployment.dll\n\n",
          "output_type": "stream"
        }
      ],
      "execution_count": 10
    },
    {
      "cell_type": "code",
      "source": "#TESTE: mover diretórios\n\narqSys.listarItensDirAtual()\n\narqSys.moverItens(\"program files\", \"users\")\n\narqSys.listarItensDirAtual()\n\n\narqSys.moverParaDiretorio(\"users\")\n\narqSys.listarItensDirAtual()\n\n\narqSys.moverParaDiretorio(\"program files\")\n\narqSys.listarItensDirAtual()",
      "metadata": {
        "trusted": true
      },
      "outputs": [
        {
          "name": "stdout",
          "text": "\nDiretório /\n\n\tARQ  startup.log\n\tDIR  program files\n\tDIR  program files (x86)\n\tDIR  users\n\tARQ  Microsoft.Web.Deployment.dll\n\n\nDiretório /\n\n\tARQ  startup.log\n\tDIR  program files (x86)\n\tDIR  users\n\tARQ  Microsoft.Web.Deployment.dll\n\n\nDiretório /users\n\n\tDIR  program files\n\n\nDiretório /users/program files\n\n\tDIR  IIS\n\tDIR  Java\n\tDIR  dotnet\n\n",
          "output_type": "stream"
        }
      ],
      "execution_count": 11
    },
    {
      "cell_type": "code",
      "source": "#TESTE: inserir dados em um arquivo e lê-los\n\narqSys.moverParaDiretorio(\"/users/program files/IIS\")\n\narqSys.escreverNoArquivo(\"Microsoft.Web.Deployment.Tracing.dll\", \"4.668 5.88 3.5 8 3.5c2.12 0 3.879 1.168 5.168\")\n\narqSys.escreverNoArquivo(\"Microsoft.Web.Deployment.Tracing.dll\", \"M16 8s-3-5.5-8-5.5S0 8 0 8s3 5.5 8 5.5S16 8 16\")\n\narqSys.escreverNoArquivo(\"Microsoft.Web.Deployment.Tracing.dll\", \"8zM1.173 8a13.133 13.133 0 0 1 1.66-2.043C4.12\")\n\narqSys.lerArquivo(\"Microsoft.Web.Deployment.Tracing.dll\")",
      "metadata": {
        "trusted": true
      },
      "outputs": [
        {
          "name": "stdout",
          "text": "\nLendo arquivo 'Microsoft.Web.Deployment.Tracing.dll'\n\n\t 4.668 5.88 3.5 8 3.5c2.12 0 3.879 1.168 5.168\n\t M16 8s-3-5.5-8-5.5S0 8 0 8s3 5.5 8 5.5S16 8 16\n\t 8zM1.173 8a13.133 13.133 0 0 1 1.66-2.043C4.12\n\n\ttamanho do arquivo: 137\n",
          "output_type": "stream"
        }
      ],
      "execution_count": 12
    },
    {
      "cell_type": "code",
      "source": "#TESTE: tentar apagar diretórios com itens\n\narqSys.moverParaDiretorio(\"/\")\n\narqSys.listarItensDirAtual()\n\narqSys.removerItens(\"/users\")\n\narqSys.listarItensDirAtual()",
      "metadata": {
        "trusted": true
      },
      "outputs": [
        {
          "name": "stdout",
          "text": "\nDiretório /\n\n\tARQ  startup.log\n\tDIR  program files (x86)\n\tDIR  users\n\tARQ  Microsoft.Web.Deployment.dll\n\nNão é possível apagar diretórios com itens dentro\n\nDiretório /\n\n\tARQ  startup.log\n\tDIR  program files (x86)\n\tDIR  users\n\tARQ  Microsoft.Web.Deployment.dll\n\n",
          "output_type": "stream"
        }
      ],
      "execution_count": 13
    },
    {
      "cell_type": "code",
      "source": "#TESTE: tentar apagar diretórios com itens usando force\n\narqSys.moverParaDiretorio(\"/\")\n\narqSys.listarItensDirAtual()\n\narqSys.removerItens(\"/users\", \"-f\")\n\narqSys.removerItens(\"startup.log\")\n\narqSys.listarItensDirAtual()",
      "metadata": {
        "trusted": true
      },
      "outputs": [
        {
          "name": "stdout",
          "text": "\nDiretório /\n\n\tARQ  startup.log\n\tDIR  program files (x86)\n\tDIR  users\n\tARQ  Microsoft.Web.Deployment.dll\n\n\nDiretório /\n\n\tDIR  program files (x86)\n\tARQ  Microsoft.Web.Deployment.dll\n\n",
          "output_type": "stream"
        }
      ],
      "execution_count": 14
    }
  ]
}