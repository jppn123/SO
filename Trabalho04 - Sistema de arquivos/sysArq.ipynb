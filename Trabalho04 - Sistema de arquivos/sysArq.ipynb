{
  "metadata": {
    "kernelspec": {
      "name": "python",
      "display_name": "Python (Pyodide)",
      "language": "python"
    },
    "language_info": {
      "codemirror_mode": {
        "name": "python",
        "version": 3
      },
      "file_extension": ".py",
      "mimetype": "text/x-python",
      "name": "python",
      "nbconvert_exporter": "python",
      "pygments_lexer": "ipython3",
      "version": "3.8"
    }
  },
  "nbformat_minor": 4,
  "nbformat": 4,
  "cells": [
    {
      "cell_type": "code",
      "source": "class Inode:\n    def __init__(self, nome, tamanho, isDir = False):\n        #comum entre arq e dir\n        self.nome = nome\n        self.tam = tamanho\n        self.isDir = isDir\n        self.pai = None\n        #somente arq\n        self.dados = []\n        #somente dir\n        self.filhos = {}\n\nclass arquivos:\n    def __init__(self):\n        self.root = Inode(\"/\", 0, True)\n        self.aux = self.root\n   \n    #mk\n    def criaArquivo(self, nome):\n        if nome in self.aux.filhos:\n            print(f\"arquivo com nome '{nome}' já existente no diretório atual\")\n            return\n        #arquivo q não tem extensão vira .txt\n        if len(nome.split(\".\")) == 1:\n          nome = nome + \".txt\"\n\n        arq = Inode(nome, 0)\n        arq.pai = self.aux\n        self.aux.filhos[nome] = arq\n   \n    #mkdir\n    def criaDiretorio(self, nome):\n        if nome in self.aux.filhos:\n            print(f\"diretório com nome '{nome}' já existente no diretório atual\")\n            return\n        dir = Inode(nome, 0, True)\n        dir.pai = self.aux\n        self.aux.filhos[nome] = dir            \n\n    #cd\n    def moverParaDiretorio(self, nome):\n       \n        nomeArquivo = nome.split(\"/\")\n        if len(nomeArquivo) > 1 and nome != \"/\":\n            self.aux = self.pathAbsoluto(nome)\n            nome = nomeArquivo[-1]\n        if nome == \"/\":\n            self.aux = self.root\n            return\n        if nome == \".\":\n            return\n        if nome == \"..\" and self.aux.pai != None:\n            self.aux = self.aux.pai\n            return\n        if nome != \"..\":\n            if nome not in self.aux.filhos:\n                print(f\"diretório {nome} não encontrado\")\n                return\n            if not self.aux.filhos[nome].isDir:\n                print(f\"não é possível mover para um arquivo\")\n                return\n            self.aux = self.aux.filhos[nome]\n\n    #wa\n    def escreverNoArquivo(self, nome, dados):\n        if nome not in self.aux.filhos:\n            print(f\"arquivo '{nome}' não encontrado no diretório atual\")\n            return\n        node:Inode = self.aux.filhos[nome]\n        if node.isDir:\n            print(f\"item de nome '{nome}' é referente a um dicionário\")\n            return\n        node.dados.append(dados)\n        node.tam += len(dados)\n\n    #ra \n    def lerArquivo(self, nome):\n        if nome not in self.aux.filhos:\n            print(f\"arquivo '{nome}' não encontrado no diretório atual\")\n            return\n        print(f\"\\nLendo arquivo '{nome}'\\n\")\n        node:Inode = self.aux.filhos[nome]\n        if node.isDir:\n            print(f\"item de nome '{nome}' é referente a um dicionário\")\n            return\n        for dado in node.dados:\n            print(\"\\t\", dado)\n        print(f\"\\n\\ttamanho do arquivo: {node.tam}\")\n\n    #dir\n    def listarItensDirAtual(self):\n        nomeDir = self.obterPathAtual()\n        print(f\"\\nDiretório {nomeDir}\\n\")\n        for nodeName, node in self.aux.filhos.items():\n            tipo = \"DIR\" if node.isDir else \"ARQ\"\n            print(f\"\\t{tipo}  {nodeName}\")\n        print()\n\n    #rm\n    def removerItens(self, nome, param = \"\"):\n        try:\n            root = self.aux\n            nomeArquivo = nome.split(\"/\")\n            if len(nomeArquivo) > 1:\n                self.pathAbsoluto(nome)\n                if root.filhos[nomeArquivo[-1]].filhos != {} and param != \"-f\":\n                    print(\"Não é possível apagar diretórios com itens dentro\")\n                    return\n                del root.filhos[nomeArquivo[-1]]\n            else:\n                if root.filhos[nome].filhos != {} and param != \"-f\":\n                    print(\"Não é possível apagar diretórios com itens dentro\")\n                    return\n                del root.filhos[nome]\n        except KeyError:\n            print(f\"arquivo '{nome}' não encontrado\")\n\n    #retorna o diretório absoluto de destino\n    def pathAbsoluto(self, destino):\n        destinoSplit = destino.split(\"/\")\n        backup = self.aux\n        curr = self.aux\n        self.aux = self.root\n        while destinoSplit:\n            inode = destinoSplit.pop(0)\n            if inode != \".\" and inode != \"..\" and inode.__contains__(\".\"):\n                root = self.aux.filhos[inode if inode != \"\" and len(inode.split(\".\")) > 1 else destinoSplit.pop(0)]\n            elif inode == \"..\":\n                self.aux = curr\n                root = self.aux.pai\n                curr = root\n            elif inode == \".\":\n                self.aux = curr\n                root = self.aux\n                curr = root\n            else:\n                root = self.aux.filhos[inode if inode != \"\" else destinoSplit.pop(0)]\n            self.aux = root\n        self.aux = backup\n        if root.pai != None:\n            return root.pai\n        return root\n\n    #retorna o path atual\n    def obterPathAtual(self):\n        backup = self.aux\n        nomeDir = []\n        while self.aux.pai:\n            nomeDir.append(self.aux.nome)\n            self.aux = self.aux.pai\n        self.aux = backup\n        nomeDir = \"/\"+\"/\".join(nomeDir[::-1])\n        return nomeDir\n\n    #mv\n    def moverItens(self, nome, destino):\n        root = self.aux\n        if nome not in root.filhos:\n            print(\"item não encontrado no diretório atual\")\n            return\n        \n        inode = root.filhos.pop(nome)\n\n        destinoSplit = destino.split(\"/\")\n        if len(destinoSplit) > 1 and destino != \"/\":\n            root = self.pathAbsoluto(destino)\n\n        if self.aux.nome == \"/\" and (destino == \"..\" or destinoSplit[-1] == \"..\"):\n            print(f\"não é possível realizar tal ação\")\n            return\n        \n        if destino == \"/\":\n            root = self.root\n        elif destinoSplit[-1] == \"..\":\n            root = root.pai\n        elif destinoSplit[-1] == \".\":\n            pass\n        else:\n            root = root.filhos[destinoSplit[-1]]\n        \n        if root:\n            #item já existe no diretório especificado, deseja substituir? (apagar o diretório com o mesmo nome e substituir)\n            if nome in root.filhos:\n                print(\"item já existe no diretório especificado\")\n                return\n            inode.pai = root\n            root.filhos[nome] = inode",
      "metadata": {
        "trusted": true
      },
      "outputs": [],
      "execution_count": 1
    },
    {
      "cell_type": "code",
      "source": "arqSys = arquivos()",
      "metadata": {
        "trusted": true
      },
      "outputs": [],
      "execution_count": 2
    },
    {
      "cell_type": "code",
      "source": "#TESTE: criando arquivos e diretórios na pasta root /\narqSys.criaArquivo(\"startup.log\")\narqSys.criaDiretorio(\"program files\")\narqSys.criaDiretorio(\"program files (x86)\")\narqSys.criaDiretorio(\"users\")\narqSys.listarItensDirAtual()",
      "metadata": {
        "trusted": true
      },
      "outputs": [
        {
          "name": "stdout",
          "text": "\nDiretório /\n\n\tARQ  startup.log\n\tDIR  program files\n\tDIR  program files (x86)\n\tDIR  users\n\n",
          "output_type": "stream"
        }
      ],
      "execution_count": 3
    },
    {
      "cell_type": "code",
      "source": "#TESTE: tentar criar os itens com mesmo nome dos já existentes\narqSys.criaArquivo(\"startup.log\")\narqSys.criaDiretorio(\"program files\")\narqSys.criaDiretorio(\"program files (x86)\")\narqSys.criaDiretorio(\"users\")",
      "metadata": {
        "trusted": true
      },
      "outputs": [
        {
          "name": "stdout",
          "text": "arquivo com nome 'startup.log' já existente no diretório atual\ndiretório com nome 'program files' já existente no diretório atual\ndiretório com nome 'program files (x86)' já existente no diretório atual\ndiretório com nome 'users' já existente no diretório atual\n",
          "output_type": "stream"
        }
      ],
      "execution_count": 4
    },
    {
      "cell_type": "code",
      "source": "#TESTE: acessar um diretório a partir do caminho relativo e criar umas pastas nele\narqSys.moverParaDiretorio(\"program files\")\narqSys.listarItensDirAtual()\n\narqSys.criaDiretorio(\"IIS\")\narqSys.criaDiretorio(\"Java\")\narqSys.criaDiretorio(\"dotnet\")\n\narqSys.listarItensDirAtual()",
      "metadata": {
        "trusted": true
      },
      "outputs": [
        {
          "name": "stdout",
          "text": "\nDiretório /program files\n\n\n\nDiretório /program files\n\n\tDIR  IIS\n\tDIR  Java\n\tDIR  dotnet\n\n",
          "output_type": "stream"
        }
      ],
      "execution_count": 5
    },
    {
      "cell_type": "code",
      "source": "#TESTE: voltar para o diretório root e ir para o diretório IIS e criar 2 arquivos\narqSys.moverParaDiretorio(\"/\")\narqSys.listarItensDirAtual()\n\narqSys.moverParaDiretorio(\"program files/IIS\")\narqSys.criaArquivo(\"Microsoft.Web.Deployment.dll\")\narqSys.criaArquivo(\"Microsoft.Web.Deployment.Tracing.dll\")\narqSys.listarItensDirAtual()",
      "metadata": {
        "trusted": true
      },
      "outputs": [
        {
          "name": "stdout",
          "text": "\nDiretório /\n\n\tARQ  startup.log\n\tDIR  program files\n\tDIR  program files (x86)\n\tDIR  users\n\n\nDiretório /program files/IIS\n\n\tARQ  Microsoft.Web.Deployment.dll\n\tARQ  Microsoft.Web.Deployment.Tracing.dll\n\n",
          "output_type": "stream"
        }
      ],
      "execution_count": 6
    },
    {
      "cell_type": "code",
      "source": "#TESTE: voltar para o diretório anterior e listar seus arquivos\narqSys.moverParaDiretorio(\"..\")\narqSys.listarItensDirAtual()",
      "metadata": {
        "trusted": true
      },
      "outputs": [
        {
          "name": "stdout",
          "text": "\nDiretório /program files\n\n\tDIR  IIS\n\tDIR  Java\n\tDIR  dotnet\n\n",
          "output_type": "stream"
        }
      ],
      "execution_count": 7
    },
    {
      "cell_type": "code",
      "source": "#TESTE: mover arquivos entre diretórios\narqSys.moverParaDiretorio(\"program files/IIS\")\narqSys.listarItensDirAtual()\narqSys.moverParaDiretorio(\".\")\narqSys.listarItensDirAtual()\n\n#arquivo sai do caminho /program files/IIS e vai para o root /\narqSys.moverItens(\"Microsoft.Web.Deployment.dll\", \"/\")\narqSys.listarItensDirAtual()\n\narqSys.moverParaDiretorio(\"/\")\narqSys.listarItensDirAtual()",
      "metadata": {
        "trusted": true
      },
      "outputs": [
        {
          "name": "stdout",
          "text": "\nDiretório /program files/IIS\n\n\tARQ  Microsoft.Web.Deployment.dll\n\tARQ  Microsoft.Web.Deployment.Tracing.dll\n\n\nDiretório /program files/IIS\n\n\tARQ  Microsoft.Web.Deployment.dll\n\tARQ  Microsoft.Web.Deployment.Tracing.dll\n\n\nDiretório /program files/IIS\n\n\tARQ  Microsoft.Web.Deployment.Tracing.dll\n\n\nDiretório /\n\n\tARQ  startup.log\n\tDIR  program files\n\tDIR  program files (x86)\n\tDIR  users\n\tARQ  Microsoft.Web.Deployment.dll\n\n",
          "output_type": "stream"
        }
      ],
      "execution_count": 8
    },
    {
      "cell_type": "code",
      "source": "#TESTE: move o arquivo para o mesmo diretório\narqSys.moverParaDiretorio(\"/\")\narqSys.moverItens(\"Microsoft.Web.Deployment.dll\", \".\")\narqSys.listarItensDirAtual()",
      "metadata": {
        "trusted": true
      },
      "outputs": [
        {
          "name": "stdout",
          "text": "\nDiretório /\n\n\tARQ  startup.log\n\tDIR  program files\n\tDIR  program files (x86)\n\tDIR  users\n\tARQ  Microsoft.Web.Deployment.dll\n\n",
          "output_type": "stream"
        }
      ],
      "execution_count": 9
    },
    {
      "cell_type": "code",
      "source": "#TESTE: mover um arquivo usando path absoluto\narqSys.moverParaDiretorio(\"/\")\narqSys.listarItensDirAtual()\narqSys.moverItens(\"Microsoft.Web.Deployment.dll\", \"/program files/Java\")\narqSys.moverParaDiretorio(\"/program files/Java\")\narqSys.listarItensDirAtual()",
      "metadata": {
        "trusted": true
      },
      "outputs": [
        {
          "name": "stdout",
          "text": "\nDiretório /\n\n\tARQ  startup.log\n\tDIR  program files\n\tDIR  program files (x86)\n\tDIR  users\n\tARQ  Microsoft.Web.Deployment.dll\n\n\nDiretório /program files/Java\n\n\tARQ  Microsoft.Web.Deployment.dll\n\n",
          "output_type": "stream"
        }
      ],
      "execution_count": 10
    },
    {
      "cell_type": "code",
      "source": "#TESTE: mover diretórios\narqSys.moverParaDiretorio(\"/\")\narqSys.listarItensDirAtual()\narqSys.moverItens(\"program files\", \"users\")\narqSys.listarItensDirAtual()\n\n\narqSys.moverParaDiretorio(\"users\")\narqSys.listarItensDirAtual()\n\narqSys.moverParaDiretorio(\"program files\")\narqSys.listarItensDirAtual()",
      "metadata": {
        "trusted": true
      },
      "outputs": [
        {
          "name": "stdout",
          "text": "\nDiretório /\n\n\tARQ  startup.log\n\tDIR  program files\n\tDIR  program files (x86)\n\tDIR  users\n\n\nDiretório /\n\n\tARQ  startup.log\n\tDIR  program files (x86)\n\tDIR  users\n\n\nDiretório /users\n\n\tDIR  program files\n\n\nDiretório /users/program files\n\n\tDIR  IIS\n\tDIR  Java\n\tDIR  dotnet\n\n",
          "output_type": "stream"
        }
      ],
      "execution_count": 11
    },
    {
      "cell_type": "code",
      "source": "#TESTE: inserir dados em um arquivo e lê-los\narqSys.moverParaDiretorio(\"/users/program files/IIS\")\narqSys.escreverNoArquivo(\"Microsoft.Web.Deployment.Tracing.dll\", \"4.668 5.88 3.5 8 3.5c2.12 0 3.879 1.168 5.168\")\narqSys.escreverNoArquivo(\"Microsoft.Web.Deployment.Tracing.dll\", \"M16 8s-3-5.5-8-5.5S0 8 0 8s3 5.5 8 5.5S16 8 16\")\narqSys.escreverNoArquivo(\"Microsoft.Web.Deployment.Tracing.dll\", \"8zM1.173 8a13.133 13.133 0 0 1 1.66-2.043C4.12\")\narqSys.lerArquivo(\"Microsoft.Web.Deployment.Tracing.dll\")",
      "metadata": {
        "trusted": true
      },
      "outputs": [
        {
          "name": "stdout",
          "text": "\nLendo arquivo 'Microsoft.Web.Deployment.Tracing.dll'\n\n\t 4.668 5.88 3.5 8 3.5c2.12 0 3.879 1.168 5.168\n\t M16 8s-3-5.5-8-5.5S0 8 0 8s3 5.5 8 5.5S16 8 16\n\t 8zM1.173 8a13.133 13.133 0 0 1 1.66-2.043C4.12\n\n\ttamanho do arquivo: 137\n",
          "output_type": "stream"
        }
      ],
      "execution_count": 12
    },
    {
      "cell_type": "code",
      "source": "#TESTE: tentar apagar diretórios com itens\narqSys.moverParaDiretorio(\"/\")\narqSys.listarItensDirAtual()\narqSys.removerItens(\"/users\")\narqSys.listarItensDirAtual()",
      "metadata": {
        "trusted": true
      },
      "outputs": [
        {
          "name": "stdout",
          "text": "\nDiretório /\n\n\tARQ  startup.log\n\tDIR  program files (x86)\n\tDIR  users\n\nNão é possível apagar diretórios com itens dentro\n\nDiretório /\n\n\tARQ  startup.log\n\tDIR  program files (x86)\n\tDIR  users\n\n",
          "output_type": "stream"
        }
      ],
      "execution_count": 13
    },
    {
      "cell_type": "code",
      "source": "#TESTE: tentar apagar diretórios com itens usando force\narqSys.moverParaDiretorio(\"/\")\narqSys.listarItensDirAtual()\narqSys.removerItens(\"/users\", \"-f\")\narqSys.removerItens(\"startup.log\")\narqSys.listarItensDirAtual()",
      "metadata": {
        "trusted": true
      },
      "outputs": [
        {
          "name": "stdout",
          "text": "\nDiretório /\n\n\tARQ  startup.log\n\tDIR  program files (x86)\n\tDIR  users\n\n\nDiretório /\n\n\tDIR  program files (x86)\n\n",
          "output_type": "stream"
        }
      ],
      "execution_count": 14
    }
  ]
}